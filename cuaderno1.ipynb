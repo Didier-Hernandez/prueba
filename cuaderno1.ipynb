{
 "cells": [
  {
   "cell_type": "markdown",
   "id": "373c1cd9-fe4b-4352-866d-785809f5cb79",
   "metadata": {},
   "source": [
    "titulo\n",
    "\n",
    "* parte 1\n",
    "* parte 2 "
   ]
  },
  {
   "cell_type": "code",
   "execution_count": 1,
   "id": "517895a2-bd59-4294-8470-f8fdc83ab619",
   "metadata": {},
   "outputs": [
    {
     "data": {
      "text/plain": [
       "8"
      ]
     },
     "execution_count": 1,
     "metadata": {},
     "output_type": "execute_result"
    }
   ],
   "source": [
    "5+3"
   ]
  },
  {
   "cell_type": "markdown",
   "id": "c7193893-c189-4250-89e0-3a57e9e9ac85",
   "metadata": {},
   "source": [
    "Julia\n",
    "Python\n",
    "R"
   ]
  },
  {
   "cell_type": "raw",
   "id": "96879a3f-ada9-43ca-840e-4ccb36013d06",
   "metadata": {},
   "source": [
    "#titulo\n",
    "\n",
    "##texto de titulo\n",
    "mas pequeño"
   ]
  },
  {
   "cell_type": "markdown",
   "id": "a35095a3-d2be-4e82-81b9-280a00ade794",
   "metadata": {},
   "source": []
  }
 ],
 "metadata": {
  "kernelspec": {
   "display_name": "Python [conda env:jupyterlab] *",
   "language": "python",
   "name": "conda-env-jupyterlab-py"
  },
  "language_info": {
   "codemirror_mode": {
    "name": "ipython",
    "version": 3
   },
   "file_extension": ".py",
   "mimetype": "text/x-python",
   "name": "python",
   "nbconvert_exporter": "python",
   "pygments_lexer": "ipython3",
   "version": "3.12.10"
  }
 },
 "nbformat": 4,
 "nbformat_minor": 5
}
